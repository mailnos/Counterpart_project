{
 "cells": [
  {
   "cell_type": "code",
   "execution_count": 4,
   "metadata": {},
   "outputs": [],
   "source": [
    "import pandas as pd\n",
    "import numpy as np\n",
    "import math\n",
    "import openpyxl\n"
   ]
  },
  {
   "cell_type": "code",
   "execution_count": 5,
   "metadata": {},
   "outputs": [],
   "source": [
    "\n",
    "data_orig = pd.read_excel(r\"Case_Study_Data.xlsx\", \"Rating Tables\" )\n",
    "\n",
    "\n",
    "#split out asset size data into df\n",
    "asset_size_df = data_orig.iloc[6:18,2:4]\n",
    "asset_size_df.columns = [\"asset_size\",\"base_rate\"]\n",
    "asset_size_df = asset_size_df.astype(float)\n",
    "\n",
    "limit_df = data_orig.iloc[20:74,2:4]\n",
    "limit_df.columns = [\"limit\",\"factor\"]\n",
    "limit_df = limit_df.astype(float)\n",
    " \n",
    "industry_df = data_orig.iloc[77:80,2:4]\n",
    "industry_df.columns = [\"hazard_group\",\"factor\"]"
   ]
  },
  {
   "cell_type": "code",
   "execution_count": null,
   "metadata": {},
   "outputs": [],
   "source": []
  }
 ],
 "metadata": {
  "kernelspec": {
   "display_name": "Python 3",
   "language": "python",
   "name": "python3"
  },
  "language_info": {
   "codemirror_mode": {
    "name": "ipython",
    "version": 3
   },
   "file_extension": ".py",
   "mimetype": "text/x-python",
   "name": "python",
   "nbconvert_exporter": "python",
   "pygments_lexer": "ipython3",
   "version": "3.11.4"
  },
  "orig_nbformat": 4
 },
 "nbformat": 4,
 "nbformat_minor": 2
}
