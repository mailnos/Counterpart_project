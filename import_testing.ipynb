{
 "cells": [
  {
   "cell_type": "code",
   "execution_count": 1,
   "metadata": {},
   "outputs": [],
   "source": [
    "import pandas as pd\n",
    "import numpy as np\n",
    "import math\n",
    "import openpyxl\n",
    "from scipy.interpolate import interp1d\n"
   ]
  },
  {
   "cell_type": "code",
   "execution_count": 2,
   "metadata": {},
   "outputs": [],
   "source": [
    "\n",
    "data_orig = pd.read_excel(r\"Case_Study_Data.xlsx\", \"Rating Tables\" )\n",
    "\n",
    "\n",
    "#split out asset size data into df\n",
    "asset_size_df = data_orig.iloc[6:18,2:4]\n",
    "asset_size_df.columns = [\"asset_size\",\"base_rate\"]\n",
    "asset_size_df = asset_size_df.astype(float)\n",
    "\n",
    "limit_df = data_orig.iloc[20:74,2:4]\n",
    "limit_df.columns = [\"limit\",\"factor\"]\n",
    "limit_df = limit_df.astype(float)\n",
    " \n",
    "industry_df = data_orig.iloc[77:80,2:4]\n",
    "industry_df.columns = [\"hazard_group\",\"factor\"]"
   ]
  },
  {
   "cell_type": "code",
   "execution_count": 4,
   "metadata": {},
   "outputs": [],
   "source": [
    "asset_size = asset_size_df[\"asset_size\"].values.tolist()\n",
    "base_rate = asset_size_df[\"base_rate\"].values.tolist()\n",
    "\n",
    "limit = limit_df[\"limit\"].values.tolist()\n",
    "factor = limit_df[\"factor\"].values.tolist()\n",
    "\n",
    "\n",
    "industry_dict = industry_df.set_index(\"hazard_group\")[\"factor\"].to_dict()"
   ]
  },
  {
   "cell_type": "code",
   "execution_count": 6,
   "metadata": {},
   "outputs": [],
   "source": [
    "base_function = interp1d(asset_size, base_rate, kind = \"linear\", bounds_error= False, fill_value= 0)\n",
    "lim_function = interp1d(limit, factor, kind = \"linear\", bounds_error= False, fill_value= 0)\n",
    "\n",
    "json_input = {'Asset Size': 1200000, 'Limit': 5000000, 'Retention': 1000000,'Industry': 'Hazard Group 2'}\n",
    "    "
   ]
  },
  {
   "cell_type": "code",
   "execution_count": 7,
   "metadata": {},
   "outputs": [],
   "source": [
    "rate_f = base_function(json_input[\"Asset Size\"])\n",
    "limit_f = lim_function(json_input[\"Limit\"])\n",
    "retention_f = lim_function(json_input[\"Retention\"])\n",
    "industry_f = industry_dict[json_input[\"Industry\"]]\n",
    "\n",
    "result = round(rate_f * (limit_f - retention_f) * industry_f * 1.7,0)"
   ]
  }
 ],
 "metadata": {
  "kernelspec": {
   "display_name": "Python 3",
   "language": "python",
   "name": "python3"
  },
  "language_info": {
   "codemirror_mode": {
    "name": "ipython",
    "version": 3
   },
   "file_extension": ".py",
   "mimetype": "text/x-python",
   "name": "python",
   "nbconvert_exporter": "python",
   "pygments_lexer": "ipython3",
   "version": "3.11.4"
  },
  "orig_nbformat": 4
 },
 "nbformat": 4,
 "nbformat_minor": 2
}
